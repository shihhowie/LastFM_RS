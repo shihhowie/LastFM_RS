{
 "cells": [
  {
   "cell_type": "code",
   "execution_count": 8,
   "metadata": {},
   "outputs": [
    {
     "name": "stdout",
     "output_type": "stream",
     "text": [
      "The autoreload extension is already loaded. To reload it, use:\n",
      "  %reload_ext autoreload\n"
     ]
    }
   ],
   "source": [
    "import os \n",
    "import json\n",
    "os.chdir(\"../lastfm\")\n",
    "%load_ext autoreload\n",
    "%autoreload 2"
   ]
  },
  {
   "cell_type": "code",
   "execution_count": 2,
   "metadata": {},
   "outputs": [],
   "source": [
    "from data import get_data\n",
    "from data_processing import find_sessions\n",
    "import pandas as pd\n",
    "import matplotlib.pyplot as plt"
   ]
  },
  {
   "cell_type": "code",
   "execution_count": 3,
   "metadata": {},
   "outputs": [],
   "source": [
    "data = get_data()\n",
    "data[\"timestamp\"] = pd.to_datetime(data[\"timestamp\"], errors=\"coerce\")"
   ]
  },
  {
   "cell_type": "code",
   "execution_count": 26,
   "metadata": {},
   "outputs": [
    {
     "data": {
      "text/html": [
       "<div>\n",
       "<style scoped>\n",
       "    .dataframe tbody tr th:only-of-type {\n",
       "        vertical-align: middle;\n",
       "    }\n",
       "\n",
       "    .dataframe tbody tr th {\n",
       "        vertical-align: top;\n",
       "    }\n",
       "\n",
       "    .dataframe thead th {\n",
       "        text-align: right;\n",
       "    }\n",
       "</style>\n",
       "<table border=\"1\" class=\"dataframe\">\n",
       "  <thead>\n",
       "    <tr style=\"text-align: right;\">\n",
       "      <th></th>\n",
       "      <th>timestamp</th>\n",
       "      <th>uid</th>\n",
       "      <th>aid</th>\n",
       "      <th>hour</th>\n",
       "    </tr>\n",
       "  </thead>\n",
       "  <tbody>\n",
       "    <tr>\n",
       "      <th>0</th>\n",
       "      <td>2009-05-04 23:08:57+00:00</td>\n",
       "      <td>0</td>\n",
       "      <td>0</td>\n",
       "      <td>23</td>\n",
       "    </tr>\n",
       "    <tr>\n",
       "      <th>1</th>\n",
       "      <td>2009-05-04 13:54:10+00:00</td>\n",
       "      <td>0</td>\n",
       "      <td>1</td>\n",
       "      <td>13</td>\n",
       "    </tr>\n",
       "    <tr>\n",
       "      <th>2</th>\n",
       "      <td>2009-05-04 13:52:04+00:00</td>\n",
       "      <td>0</td>\n",
       "      <td>1</td>\n",
       "      <td>13</td>\n",
       "    </tr>\n",
       "    <tr>\n",
       "      <th>3</th>\n",
       "      <td>2009-05-04 13:42:52+00:00</td>\n",
       "      <td>0</td>\n",
       "      <td>1</td>\n",
       "      <td>13</td>\n",
       "    </tr>\n",
       "    <tr>\n",
       "      <th>4</th>\n",
       "      <td>2009-05-04 13:42:11+00:00</td>\n",
       "      <td>0</td>\n",
       "      <td>1</td>\n",
       "      <td>13</td>\n",
       "    </tr>\n",
       "  </tbody>\n",
       "</table>\n",
       "</div>"
      ],
      "text/plain": [
       "                  timestamp  uid  aid  hour\n",
       "0 2009-05-04 23:08:57+00:00    0    0    23\n",
       "1 2009-05-04 13:54:10+00:00    0    1    13\n",
       "2 2009-05-04 13:52:04+00:00    0    1    13\n",
       "3 2009-05-04 13:42:52+00:00    0    1    13\n",
       "4 2009-05-04 13:42:11+00:00    0    1    13"
      ]
     },
     "execution_count": 26,
     "metadata": {},
     "output_type": "execute_result"
    }
   ],
   "source": [
    "data[\"hour\"] = data[\"timestamp\"].dt.hour\n",
    "data.head()"
   ]
  },
  {
   "cell_type": "markdown",
   "metadata": {},
   "source": [
    "## Represent listening record as a timeseries"
   ]
  },
  {
   "cell_type": "code",
   "execution_count": 45,
   "metadata": {},
   "outputs": [],
   "source": [
    "user0 = data.loc[data[\"uid\"]==0][::-1]"
   ]
  },
  {
   "cell_type": "code",
   "execution_count": 64,
   "metadata": {},
   "outputs": [],
   "source": [
    "user0[\"diff\"] = user0[\"timestamp\"].diff().dt.seconds.fillna(0)\n"
   ]
  },
  {
   "cell_type": "code",
   "execution_count": 70,
   "metadata": {},
   "outputs": [],
   "source": [
    "sessions = []\n",
    "session = []\n",
    "for i, row in user0.iterrows():\n",
    "    if row[\"diff\"]<500:\n",
    "        session.append(row[\"aid\"])\n",
    "    else:\n",
    "        sessions.append(session)\n",
    "        session = []"
   ]
  },
  {
   "cell_type": "code",
   "execution_count": 86,
   "metadata": {},
   "outputs": [],
   "source": [
    "sessions_clean = []\n",
    "for session in sessions:\n",
    "    session_new = []\n",
    "    curr_artist = -1\n",
    "    for artist in session:\n",
    "        if artist != curr_artist:\n",
    "            session_new.append(artist)\n",
    "            curr_artist = artist\n",
    "    sessions_clean.append(session_new)"
   ]
  },
  {
   "cell_type": "markdown",
   "metadata": {},
   "source": [
    "### Most popular artists"
   ]
  },
  {
   "cell_type": "code",
   "execution_count": 9,
   "metadata": {},
   "outputs": [],
   "source": [
    "top_artist_ids = data[\"aid\"].value_counts()[:20]\n",
    "with open(\"../lastfm/mappings/aid_to_artistid.json\") as f:\n",
    "    aid_to_artistid = json.load(f)\n",
    "with open(\"../lastfm/mappings/artistid_to_aname.json\") as f:\n",
    "    artist_to_aname = json.load(f)"
   ]
  },
  {
   "cell_type": "code",
   "execution_count": 10,
   "metadata": {},
   "outputs": [],
   "source": [
    "aid_to_aname = {aid: artist_to_aname.get(aid_to_artistid[aid]) for aid in aid_to_artistid}"
   ]
  },
  {
   "cell_type": "code",
   "execution_count": 16,
   "metadata": {},
   "outputs": [
    {
     "data": {
      "text/plain": [
       "[None,\n",
       " None,\n",
       " 'Skeema',\n",
       " 'Eddie Cano',\n",
       " 'Contropotere',\n",
       " 'Il Rovescio Della Medaglia',\n",
       " 'Panic On The Titanic',\n",
       " 'Randy Bernsen',\n",
       " 'Keith Boynton',\n",
       " 'Václav Neckář',\n",
       " 'The Glitterboys',\n",
       " 'Isaac Albéniz',\n",
       " 'Paul Lowry',\n",
       " 'Stars On 200',\n",
       " 'In Embrace',\n",
       " 'Gian Marco',\n",
       " 'The Januaries',\n",
       " 'Vibrasonic',\n",
       " 'The Bollweevils',\n",
       " 'Ranking Joe']"
      ]
     },
     "execution_count": 16,
     "metadata": {},
     "output_type": "execute_result"
    }
   ],
   "source": [
    "top_artist_names = [aid_to_aname.get(str(aid)) for aid in top_artist_ids]\n",
    "top_artist_names"
   ]
  },
  {
   "cell_type": "code",
   "execution_count": null,
   "metadata": {},
   "outputs": [],
   "source": []
  }
 ],
 "metadata": {
  "kernelspec": {
   "display_name": "lastfm",
   "language": "python",
   "name": "lastfm"
  },
  "language_info": {
   "codemirror_mode": {
    "name": "ipython",
    "version": 3
   },
   "file_extension": ".py",
   "mimetype": "text/x-python",
   "name": "python",
   "nbconvert_exporter": "python",
   "pygments_lexer": "ipython3",
   "version": "3.6.6"
  }
 },
 "nbformat": 4,
 "nbformat_minor": 2
}
